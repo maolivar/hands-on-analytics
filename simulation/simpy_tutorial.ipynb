{
 "cells": [
  {
   "cell_type": "markdown",
   "metadata": {},
   "source": [
    "# Introduction to Simpy: discrete event simulation in Python\n",
    "The python package `Simpy` provides a convenient way to program discrete event simulation that incorporate resources with limited capacity. This tutorial provides somes of the basics to use the package.\n",
    "\n",
    "Check the [simpy website](https://simpy.readthedocs.io/en/latest/) for instructions on how to install `simpy` in your computer (be careful not to confuse it with the `sympy` package, which is different and focus on symbolic algebra).\n",
    "\n",
    "The tutorial is organized as follows:\n",
    "\n",
    "- Introduction to generator functions\n",
    "- Basic syntax of simpy\n",
    "- Example of queing system"
   ]
  },
  {
   "cell_type": "markdown",
   "metadata": {},
   "source": [
    "## Generator functions\n",
    "\n",
    "You are probably familiar with using functions in Python. Generators are defined using similar syntax as functions but are used in a different way. \n",
    "\n",
    "When calling a function, it is executed \"from scratch\" every time it is called. Consider the following function."
   ]
  },
  {
   "cell_type": "code",
   "execution_count": 66,
   "metadata": {},
   "outputs": [
    {
     "name": "stdout",
     "output_type": "stream",
     "text": [
      "45\n"
     ]
    }
   ],
   "source": [
    "def add_series(n):\n",
    "    num=0\n",
    "    tot=0\n",
    "    while num<n:\n",
    "        tot += num\n",
    "        num += 1\n",
    "    return tot\n",
    "\n",
    "result = add_series(10)\n",
    "print(result)"
   ]
  },
  {
   "cell_type": "markdown",
   "metadata": {},
   "source": [
    "This is a simple function that adds all integers from 0..n and returns the result. Now, consider a variation of this function that **incrementally** adds the integers every time the function is called. This is an example of a generator."
   ]
  },
  {
   "cell_type": "code",
   "execution_count": 67,
   "metadata": {},
   "outputs": [
    {
     "name": "stdout",
     "output_type": "stream",
     "text": [
      "First call: 0\n",
      "Second call: 1\n",
      "Third call: 3\n"
     ]
    }
   ],
   "source": [
    "def add_series_gen(n):\n",
    "    num=0\n",
    "    tot=0\n",
    "    while num<n:\n",
    "        tot += num\n",
    "        num += 1\n",
    "        yield tot\n",
    "\n",
    "mygen = add_series_gen(10)\n",
    "print(\"First call: %s\"%(next(mygen)))\n",
    "print(\"Second call: %s\"%(next(mygen)))\n",
    "print(\"Third call: %s\"%(next(mygen)))"
   ]
  },
  {
   "cell_type": "markdown",
   "metadata": {},
   "source": [
    "The `yield` command is similar to a `return` in that is returns a value when the function is called; however, the function \"remembers\" the point at which it returned the value and proceed from that point on the next time it is called. The `next` command tells the generator to resume execution from where it was until the next `yield` statement is returned.\n",
    "\n",
    "In simpy, generators are used to create entities in the simulation, which is useful to keep track of the state of the entity during the simulation as the clock moves on."
   ]
  },
  {
   "cell_type": "markdown",
   "metadata": {},
   "source": [
    "## Basics of simpy\n",
    "We will use two basic elements in the simpy simulation API:\n",
    "\n",
    "- The simpy Environment: this is what controls the simulation clock and \"orquestrates\" the flow of entities through the system.\n",
    "- Resources: used to capture limited resources which entities use. When resources are busy, entities that request the use of that resource will have to wait until it becomes available.\n",
    "\n",
    "For our example, consider a bank with two ATM machines. The object `env` is defined as the enviroment and the `atm` as a resources with 2 units of capacity (the two machines)."
   ]
  },
  {
   "cell_type": "code",
   "execution_count": 68,
   "metadata": {},
   "outputs": [],
   "source": [
    "import simpy\n",
    "\n",
    "# init the enviroment\n",
    "env = simpy.Environment()\n",
    "# define the resources\n",
    "NSERVERS = 2\n",
    "atm = simpy.Resource(env,capacity=NSERVERS)\n"
   ]
  },
  {
   "cell_type": "markdown",
   "metadata": {},
   "source": [
    "We now define an entity and how it flows through the system. These are defined through a generator that receives as input the simpy environment that will manage the flow of the entity and the ATM resources that he will use. We also provide the arrival time and the service time of the customer (how long he uses the ATM machine), and his name."
   ]
  },
  {
   "cell_type": "code",
   "execution_count": 69,
   "metadata": {},
   "outputs": [],
   "source": [
    "def cust(env,atm,name,arrival_t,service_t):\n",
    "    yield env.timeout(arrival_t)\n",
    "    print('%s arriving at %d' %(name,env.now))\n",
    "    \n",
    "    # Request the use of the resource\n",
    "    req = atm.request()\n",
    "    yield req\n",
    "    print('%s starts service at %s  (waited %s)' %(name, env.now,env.now-arrival_t))\n",
    "    # The customer holds the resource during the service time\n",
    "    yield env.timeout(service_t)\n",
    "    print('%s finishes service at %s' %(name, env.now))\n",
    "    # release the resource\n",
    "    atm.release(req)\n"
   ]
  },
  {
   "cell_type": "markdown",
   "metadata": {},
   "source": [
    "Notice the different `yield` statements inside the generator. The first `yield` tells the environment to call back the generator later in time, after a `timeout` of `arrival_t` time units. When the `env` calls the generator back again, it resumes from that point onwards. The `env.now` is a variable of the environment object that keeps track of the clock.\n",
    "\n",
    "Then, the generator defines `req` as a request of the ATM resource (`atm.request()`). A new `yield` command is called to make the request, and the enviroment will call back the generator as soon as the resource is idle (which could be inmediately). The generator resumes and then a new `yield` is move the clock while the customer is using the resource. After the generator resumes, the resources is released, and can therefore be used to fill the request of another customer process.\n",
    "\n",
    "To execute the simulation, we generate customer arrivals and service times. We use the `numpy` package to generate these random variables according to an exponential distribution. The customer process are \"scheduled\" using the `env.process()` function of the environment object."
   ]
  },
  {
   "cell_type": "code",
   "execution_count": 70,
   "metadata": {},
   "outputs": [],
   "source": [
    "import numpy as np\n",
    "# Schedule the customer arrivals\n",
    "t= 0\n",
    "NCUST = 10\n",
    "ARRIVALRATE = (1/50) * 2  \n",
    "SERVICERATE = 1/40\n",
    "# set the seed for random number generation\n",
    "SEED = 777\n",
    "np.random.seed(SEED)\n",
    "\n",
    "for i in range(NCUST):\n",
    "    service_time = round(np.random.exponential(1/SERVICERATE))\n",
    "    # interarrival times\n",
    "    intertime = round(np.random.exponential(1/ARRIVALRATE))\n",
    "    # pass the customer entity to be processed in the environment\n",
    "    env.process(cust(env,atm,'C%d'%i, t + intertime, service_time))\n",
    "    t = t + intertime\n"
   ]
  },
  {
   "cell_type": "markdown",
   "metadata": {},
   "source": [
    "Finally, we tell the environment to run the simulation with all the processes that were scheduled. The output shows the arrival times, the time each customer starts service and finishes."
   ]
  },
  {
   "cell_type": "code",
   "execution_count": 71,
   "metadata": {},
   "outputs": [
    {
     "name": "stdout",
     "output_type": "stream",
     "text": [
      "C0 arriving at 9\n",
      "C0 starts service at 9  (waited 0)\n",
      "C0 finishes service at 16\n",
      "C1 arriving at 24\n",
      "C1 starts service at 24  (waited 0)\n",
      "C1 finishes service at 27\n",
      "C2 arriving at 89\n",
      "C2 starts service at 89  (waited 0)\n",
      "C3 arriving at 126\n",
      "C3 starts service at 126  (waited 0)\n",
      "C4 arriving at 152\n",
      "C5 arriving at 154\n",
      "C2 finishes service at 161\n",
      "C4 starts service at 161  (waited 9)\n",
      "C6 arriving at 165\n",
      "C4 finishes service at 174\n",
      "C5 starts service at 174  (waited 20)\n",
      "C3 finishes service at 178\n",
      "C5 finishes service at 178\n",
      "C6 starts service at 178  (waited 13)\n",
      "C7 arriving at 190\n",
      "C7 starts service at 190  (waited 0)\n",
      "C8 arriving at 210\n",
      "C6 finishes service at 214\n",
      "C8 starts service at 214  (waited 4)\n",
      "C9 arriving at 222\n",
      "C8 finishes service at 260\n",
      "C9 starts service at 260  (waited 38)\n",
      "C9 finishes service at 273\n",
      "C7 finishes service at 370\n"
     ]
    }
   ],
   "source": [
    "env.run()"
   ]
  },
  {
   "cell_type": "markdown",
   "metadata": {},
   "source": [
    "## Example of a Queuing System\n",
    "\n",
    "We extend the previous example to study a system with multiple queues, similar to what could be a supermarket with multiple cashiers. We also use the example to illustrate how to store relevant information of the simulation that is used as output for later analysis.\n",
    "\n",
    "The system is composed by three cashiers with the same service time. Arrival times vary during the day, in four time blocks.\n"
   ]
  },
  {
   "cell_type": "code",
   "execution_count": 72,
   "metadata": {},
   "outputs": [
    {
     "name": "stdout",
     "output_type": "stream",
     "text": [
      "0\n",
      "1\n",
      "2\n",
      "3\n",
      "[(0, 14400), (14400, 28800), (28800, 43200), (43200, 57600)]\n",
      "[0.02, 0.04, 0.02666666666666667, 0.044444444444444446]\n"
     ]
    }
   ],
   "source": [
    "import simpy\n",
    "import random\n",
    "import numpy as np\n",
    "\n",
    "'''\n",
    "Parameters\n",
    "'''\n",
    "NCASHIER = 2\n",
    "SERVICERATE = 1/40\n",
    "SEED = 777\n",
    "ARRIVALRATES = [x*NCASHIER for x in [1/100, 1/50, 1/75, 1/45]]\n",
    "#ARRIVALRATES = [x*NCASHIER for x in [1/75]]\n",
    "\n",
    "'''\n",
    "Auto parameter\n",
    "'''\n",
    "TIME_INTERVALS = []\n",
    "for i in range(len(ARRIVALRATES)):\n",
    "    print(i)\n",
    "    TIME_INTERVALS.append((i*3600*4, (i+1)*3600*4))\n",
    "print(TIME_INTERVALS)\n",
    "print(ARRIVALRATES)\n",
    "\n",
    "\n",
    "'''\n",
    "Set seed\n",
    "'''\n",
    "random.seed(SEED)\n",
    "np.random.seed(SEED)"
   ]
  },
  {
   "cell_type": "markdown",
   "metadata": {},
   "source": [
    "We create a list to store the changes in the occupancy of the system. By convention, -1 indicates empty cashier, 0 is server occupied with no queue and >0 is the length of queue."
   ]
  },
  {
   "cell_type": "code",
   "execution_count": 73,
   "metadata": {},
   "outputs": [],
   "source": [
    "'''\n",
    "data_occ: list storing changes in customers in the system (c,t,s).\n",
    "* c is cashier code\n",
    "* t is time in seconds\n",
    "* s = -1 is empty, = 0 is server occupied with no queue ,> 0 is queue.\n",
    "'''\n",
    "data_occ = []\n",
    "# start checkouts empty\n",
    "for i in range(NCASHIER):\n",
    "    data_occ.append((i,0,-1))\n"
   ]
  },
  {
   "cell_type": "markdown",
   "metadata": {},
   "source": [
    "Customer entities join the system and choose which cashier to join. In this simulation, customers choose the cashier with the shortest queue. The code has a similar structure to what we had before, with some additions:\n",
    "\n",
    "- We keep track if the customers had to join a queue or started inmediately service (variable `joinedqueue`).\n",
    "- `cashiers` is a list of resources, so customers choose which resource to request\n",
    "- When requesting, we now use the command `with`. This helps to keep the code organized and also makes the `release()` command unnecessary (it is automatically triggered after the `with` block is done).\n",
    "- we store changes in the occupancy of each cashier when a customer joins and exits: `data_occ.append()`.\n"
   ]
  },
  {
   "cell_type": "code",
   "execution_count": 81,
   "metadata": {},
   "outputs": [],
   "source": [
    "def cust_choose(env, name, cashiers, arrival_time, service_time):\n",
    "    # client arrival\n",
    "    yield env.timeout(arrival_time)\n",
    "    #print('%s arriving at %d' %(name,env.now))\n",
    "\n",
    "    # shuffle cashiers to generate choiceset, breaking ties randomly\n",
    "    choiceset = list(range(NCASHIER))\n",
    "    random.shuffle(choiceset)\n",
    "\n",
    "    # choose cashier with lowest occupancy (service + queue)\n",
    "    minocc = float(\"inf\")  # infinity\n",
    "    for i in choiceset:\n",
    "        occ = len(cashiers[i].queue) + cashiers[i].count\n",
    "        if occ < minocc:\n",
    "            choice = i\n",
    "            minocc = occ    \n",
    "    #print('%s joins cashier %d with occ %d'%(name,choice,minocc))\n",
    "\n",
    "    # if chosen cashier is busy\n",
    "    if cashiers[choice].count==1:\n",
    "       # print(\"%s joins queue %d.\"%(name,choice))\n",
    "       # print(\"**Queue %d length increased: %d\"%(choice,len(cashiers[choice].queue)+1))\n",
    "        joinedqueue = True\n",
    "    else:\n",
    "        joinedqueue = False\n",
    "        \n",
    "    # requests cashier after joining\n",
    "    with cashiers[choice].request() as req:\n",
    "        # update occupancy data\n",
    "        new = cashiers[choice].count + len(cashiers[choice].queue) - 1  # substract one by notation\n",
    "        data_occ.append((choice, env.now, new))\n",
    "        yield req\n",
    "        #print('%s starts service in cashier %d at %s' %(name,choice,env.now))\n",
    "        #if joinedqueue:\n",
    "        #    print(\"**Queue %d length decreased: %d\"%(choice,len(cashiers[choice].queue)))      \n",
    "        yield env.timeout(service_time)\n",
    "        #print('%s leaving the supermarket at %s' %(name,env.now))\n",
    "    # **** update occupancy ***\n",
    "    # recall -1 is empty, so substract one to real occupancy.\n",
    "    data_occ.append((choice,env.now,len(cashiers[choice].queue)+cashiers[choice].count-1))\n",
    " \n"
   ]
  },
  {
   "cell_type": "markdown",
   "metadata": {},
   "source": [
    "In the main program, we initialize the environment and create the cashier resources."
   ]
  },
  {
   "cell_type": "code",
   "execution_count": 82,
   "metadata": {},
   "outputs": [],
   "source": [
    "'''\n",
    "Main program\n",
    "'''\n",
    "env = simpy.Environment()\n",
    "\n",
    "'''\n",
    "Create cacshiers\n",
    "'''\n",
    "cashierList = []\n",
    "for _ in range(NCASHIER):\n",
    "    cashierList.append(simpy.Resource(env,capacity=1))"
   ]
  },
  {
   "cell_type": "markdown",
   "metadata": {},
   "source": [
    "To create arrivals, we consider the non-homogenous arrival rate during different time periods of the day. "
   ]
  },
  {
   "cell_type": "code",
   "execution_count": 83,
   "metadata": {},
   "outputs": [],
   "source": [
    "'''\n",
    "Create customers, with times and add to process\n",
    "* interarrival time: exp(1/SERVICERATE)\n",
    "* service times: exp(1/ARRIVALRATE)\n",
    "'''\n",
    "k = 0\n",
    "t = 0\n",
    "i = 1\n",
    "while k < len(TIME_INTERVALS):\n",
    "    time_interval = TIME_INTERVALS[k]\n",
    "    arrival_rate = ARRIVALRATES[k]\n",
    "    service_time = round(np.random.exponential(1/SERVICERATE))\n",
    "    intertime = round(np.random.exponential(1/arrival_rate))\n",
    "    env.process(cust_choose(env,\n",
    "                    'C%d'%i,\n",
    "                    cashierList,\n",
    "                    t + intertime,\n",
    "                    service_time))\n",
    "    t = t + intertime\n",
    "    if t >= time_interval[1]:\n",
    "        k += 1\n",
    "    i+=1"
   ]
  },
  {
   "cell_type": "markdown",
   "metadata": {},
   "source": [
    "Running the simulation... Output is quite long, so its surpressed in the display."
   ]
  },
  {
   "cell_type": "code",
   "execution_count": 84,
   "metadata": {},
   "outputs": [],
   "source": [
    "env.run();"
   ]
  },
  {
   "cell_type": "markdown",
   "metadata": {},
   "source": [
    "The next chunk uses the `pandas` packages to export the data collected in the simulation. A `csv` file is generated showing, for each cashier, the time epochs at which the occupancy of the cashier changed. by convention. "
   ]
  },
  {
   "cell_type": "code",
   "execution_count": 85,
   "metadata": {},
   "outputs": [],
   "source": [
    "import pandas as pd\n",
    "'''\n",
    "Create export dataset\n",
    "'''\n",
    "name = \"JoinShortest_q{}_s{}_varutil\".format(NCASHIER,SEED)\n",
    "OUTPUT = \"{}.csv\".format(name)\n",
    "dfdata = pd.DataFrame(data=data_occ,columns=['cashier','time','occ'])\n",
    "dfdata.columns = [\"cashier\", \"time\", \"occ\"]\n",
    "#dfdata[\"Local\"]= name\n",
    "#dfdata[\"Fecha\"] = pd.to_datetime(\"1/1/2020\")\n",
    "dfdata.to_csv(OUTPUT,index=False,header=True)"
   ]
  },
  {
   "cell_type": "markdown",
   "metadata": {},
   "source": [
    "The output table, order by time, looks like this:"
   ]
  },
  {
   "cell_type": "code",
   "execution_count": 86,
   "metadata": {},
   "outputs": [
    {
     "data": {
      "text/html": [
       "<div>\n",
       "<style scoped>\n",
       "    .dataframe tbody tr th:only-of-type {\n",
       "        vertical-align: middle;\n",
       "    }\n",
       "\n",
       "    .dataframe tbody tr th {\n",
       "        vertical-align: top;\n",
       "    }\n",
       "\n",
       "    .dataframe thead th {\n",
       "        text-align: right;\n",
       "    }\n",
       "</style>\n",
       "<table border=\"1\" class=\"dataframe\">\n",
       "  <thead>\n",
       "    <tr style=\"text-align: right;\">\n",
       "      <th></th>\n",
       "      <th>cashier</th>\n",
       "      <th>time</th>\n",
       "      <th>occ</th>\n",
       "    </tr>\n",
       "  </thead>\n",
       "  <tbody>\n",
       "    <tr>\n",
       "      <th>0</th>\n",
       "      <td>0</td>\n",
       "      <td>0</td>\n",
       "      <td>-1</td>\n",
       "    </tr>\n",
       "    <tr>\n",
       "      <th>1</th>\n",
       "      <td>1</td>\n",
       "      <td>0</td>\n",
       "      <td>-1</td>\n",
       "    </tr>\n",
       "    <tr>\n",
       "      <th>2</th>\n",
       "      <td>1</td>\n",
       "      <td>18</td>\n",
       "      <td>0</td>\n",
       "    </tr>\n",
       "    <tr>\n",
       "      <th>3</th>\n",
       "      <td>1</td>\n",
       "      <td>25</td>\n",
       "      <td>-1</td>\n",
       "    </tr>\n",
       "    <tr>\n",
       "      <th>4</th>\n",
       "      <td>0</td>\n",
       "      <td>49</td>\n",
       "      <td>0</td>\n",
       "    </tr>\n",
       "    <tr>\n",
       "      <th>5</th>\n",
       "      <td>0</td>\n",
       "      <td>52</td>\n",
       "      <td>-1</td>\n",
       "    </tr>\n",
       "    <tr>\n",
       "      <th>6</th>\n",
       "      <td>0</td>\n",
       "      <td>180</td>\n",
       "      <td>0</td>\n",
       "    </tr>\n",
       "    <tr>\n",
       "      <th>7</th>\n",
       "      <td>0</td>\n",
       "      <td>252</td>\n",
       "      <td>-1</td>\n",
       "    </tr>\n",
       "    <tr>\n",
       "      <th>8</th>\n",
       "      <td>0</td>\n",
       "      <td>253</td>\n",
       "      <td>0</td>\n",
       "    </tr>\n",
       "    <tr>\n",
       "      <th>9</th>\n",
       "      <td>1</td>\n",
       "      <td>305</td>\n",
       "      <td>0</td>\n",
       "    </tr>\n",
       "  </tbody>\n",
       "</table>\n",
       "</div>"
      ],
      "text/plain": [
       "   cashier  time  occ\n",
       "0        0     0   -1\n",
       "1        1     0   -1\n",
       "2        1    18    0\n",
       "3        1    25   -1\n",
       "4        0    49    0\n",
       "5        0    52   -1\n",
       "6        0   180    0\n",
       "7        0   252   -1\n",
       "8        0   253    0\n",
       "9        1   305    0"
      ]
     },
     "execution_count": 86,
     "metadata": {},
     "output_type": "execute_result"
    }
   ],
   "source": [
    "dfdata.head(10)"
   ]
  },
  {
   "cell_type": "markdown",
   "metadata": {},
   "source": [
    "The following code transforms the data into a format that makes it easier to visualize in a graph. It uses the `matplotlib`library to do the graph"
   ]
  },
  {
   "cell_type": "code",
   "execution_count": 80,
   "metadata": {},
   "outputs": [
    {
     "data": {
      "image/png": "[encoded data removed]",
      "text/plain": [
       "<Figure size 432x288 with 2 Axes>"
      ]
     },
     "metadata": {
      "needs_background": "light"
     },
     "output_type": "display_data"
    }
   ],
   "source": [
    "import matplotlib.pyplot as plt\n",
    "# Function to reformat into ts to facilitate plotting\n",
    "def ts_data(dfdata,cashier):\n",
    "    sel_cashier = dfdata['cashier']==cashier\n",
    "    seldata =  dfdata.loc[sel_cashier,['time','occ']]\n",
    "    seldata.sort_values(by='time')\n",
    "    \n",
    "    #npdata_occ = npdata_all[npdata_all[:,0]==cashier,1:3]\n",
    "    # sort by time\n",
    "    #npdata_occ = npdata_occ[np.argsort(npdata_occ[:,1])]\n",
    "    \n",
    "    newlen = len(seldata)*2 -1\n",
    "    time = list(range(newlen))\n",
    "    time[0:newlen:2]=seldata.iloc[:,0]\n",
    "    time[1:newlen:2]=seldata.iloc[1:,0]\n",
    "    occ = list(range(newlen))\n",
    "    occ[0:newlen:2]=seldata.iloc[:,1]\n",
    "    occ[1:newlen:2]=seldata.iloc[0:len(seldata)-1,1]\n",
    "    return (time,occ)\n",
    "\n",
    "\n",
    "fig,ax = plt.subplots(NCASHIER,sharex='all',sharey='all')\n",
    "for i in range(NCASHIER):\n",
    "    tsqueue = ts_data(dfdata,i)\n",
    "    ax[i].plot(tsqueue[0],tsqueue[1])\n",
    "plt.show()"
   ]
  },
  {
   "cell_type": "markdown",
   "metadata": {},
   "source": [
    "## Analyzing the output of a simulation\n",
    "Consider the first example of the ATM machine with a single server. We are interested in measuring the expected time at which the last customer finishes processing.\n",
    "What we showed previously is the result of *one* simulation run. To measure the outcome presented here, we need to run multiple simulations and calculate averages *across* simulations to estimate these expected values.\n",
    "We recycle some of the previous code and extend it to have multiple simulations."
   ]
  },
  {
   "cell_type": "code",
   "execution_count": 100,
   "metadata": {},
   "outputs": [],
   "source": [
    "%%capture\n",
    "# first line to suppress output\n",
    "import numpy as np\n",
    "from scipy.stats import norm\n",
    "\n",
    "NSERVERS = 2\n",
    "ARRIVALRATE = (1/50) * 2  \n",
    "SERVICERATE = 1/40\n",
    "NCUST = 10\n",
    "# set the seed for random number generation\n",
    "SEED = 777\n",
    "np.random.seed(SEED)\n",
    "\n",
    "endtime = []\n",
    "# iterate runs\n",
    "for i in range(100):\n",
    "    # init the enviroment\n",
    "    env = simpy.Environment()\n",
    "    # define the resources\n",
    "    atm = simpy.Resource(env,capacity=NSERVERS)\n",
    "    t= 0\n",
    "    for i in range(NCUST):\n",
    "        service_time = round(np.random.exponential(1/SERVICERATE))\n",
    "        # interarrival times\n",
    "        intertime = round(np.random.exponential(1/ARRIVALRATE))\n",
    "        # pass the customer entity to be processed in the environment\n",
    "        env.process(cust(env,atm,'C%d'%i, t + intertime, service_time))\n",
    "        t = t + intertime\n",
    "    env.run()\n",
    "    # save the endtime of this run\n",
    "    endtime.append(env.now);\n",
    "    "
   ]
  },
  {
   "cell_type": "markdown",
   "metadata": {},
   "source": [
    "Now we analize the output of the simulation and construct the 95% confidence interval. Here, the relative precision is defined as the half-width of the confidence interval divided by the midpoint of the interval.\n",
    "\n",
    "Confidence Interval = $$\\bar X \\pm z_\\alpha S/\\sqrt{R}$$\n",
    "where $R$ is the number of runs.\n",
    "\n",
    "The relative precision is defined as: $$( z_\\alpha S/\\sqrt{R} - \\bar X)/\\bar X$$"
   ]
  },
  {
   "cell_type": "code",
   "execution_count": 129,
   "metadata": {},
   "outputs": [
    {
     "name": "stdout",
     "output_type": "stream",
     "text": [
      "Mean=319.390000  StDev=82.067764\n",
      "Number of runs=100\n",
      "95% Confidence interval [303.305014,335.474986]\n",
      "Relative precision= 0.050362\n"
     ]
    }
   ],
   "source": [
    "mean_endt = np.mean(endtime)\n",
    "stdev_endt = np.std(endtime)\n",
    "n = len(endtime)\n",
    "z = norm.ppf(0.975)\n",
    "ub = mean_endt+z*stdev_endt/np.sqrt(n)\n",
    "lb = mean_endt - z*stdev_endt/np.sqrt(n)\n",
    "print(\"Mean=%f  StDev=%f\"%(mean_endt,stdev_endt))\n",
    "print(\"Number of runs=%d\"%(n))\n",
    "print(\"95%% Confidence interval [%f,%f]\"%(lb,ub))\n",
    "print(\"Relative precision= %f\"%((ub-mean_endt)/mean_endt))"
   ]
  },
  {
   "cell_type": "markdown",
   "metadata": {},
   "source": [
    "Suppose we want to achieve a relative precision of 2%. How many runs should we execute to achieve this precision? The half-width of the interval has to be $d = 0.02\\bar X$"
   ]
  },
  {
   "cell_type": "code",
   "execution_count": 130,
   "metadata": {},
   "outputs": [
    {
     "name": "stdout",
     "output_type": "stream",
     "text": [
      "Minimum number of runs (precision 2%)= 635\n"
     ]
    }
   ],
   "source": [
    "d = 0.02*mean_endt\n",
    "Rmin = (z*stdev_endt/d)**2\n",
    "print(\"Minimum number of runs (precision 2%%)= %d\"%(np.ceil(Rmin)))"
   ]
  },
  {
   "cell_type": "code",
   "execution_count": null,
   "metadata": {
    "scrolled": true
   },
   "outputs": [],
   "source": []
  },
  {
   "cell_type": "code",
   "execution_count": null,
   "metadata": {},
   "outputs": [],
   "source": []
  }
 ],
 "metadata": {
  "kernelspec": {
   "display_name": "Python 3",
   "language": "python",
   "name": "python3"
  },
  "language_info": {
   "codemirror_mode": {
    "name": "ipython",
    "version": 3
   },
   "file_extension": ".py",
   "mimetype": "text/x-python",
   "name": "python",
   "nbconvert_exporter": "python",
   "pygments_lexer": "ipython3",
   "version": "3.8.8"
  }
 },
 "nbformat": 4,
 "nbformat_minor": 4
}
